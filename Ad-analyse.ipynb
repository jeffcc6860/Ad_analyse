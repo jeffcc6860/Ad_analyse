{
 "cells": [
  {
   "cell_type": "markdown",
   "metadata": {},
   "source": [
    "数据集地址：https://tianchi.aliyun.com/dataset/dataDetail?dataId=56  \n",
    "从一份淘宝平台的广告点击数据，分析数据中的规律，给运营团队提出建议。  \n",
    "指标维度梳理：  \n",
    "**广告点击人数 = 广告展示数 x 点击率**  \n",
    "在广告展示数一定的条件下，对**点击率**进行分析。\n",
    "对点击率进行维度梳理：  \n",
    "1.广告角度  \n",
    "- 从商品价格维度分析对点击率的影响\n",
    "- 从商品类别维度分析对点击率的影响  \n",
    "2.用户角度\n",
    "- 结合聚类模型分析不同用户群体与点击率的联系\n"
   ]
  },
  {
   "cell_type": "markdown",
   "metadata": {},
   "source": [
    "### 数据清洗"
   ]
  },
  {
   "cell_type": "code",
   "execution_count": 1,
   "metadata": {},
   "outputs": [
    {
     "data": {
      "text/html": [
       "<div>\n",
       "<style scoped>\n",
       "    .dataframe tbody tr th:only-of-type {\n",
       "        vertical-align: middle;\n",
       "    }\n",
       "\n",
       "    .dataframe tbody tr th {\n",
       "        vertical-align: top;\n",
       "    }\n",
       "\n",
       "    .dataframe thead th {\n",
       "        text-align: right;\n",
       "    }\n",
       "</style>\n",
       "<table border=\"1\" class=\"dataframe\">\n",
       "  <thead>\n",
       "    <tr style=\"text-align: right;\">\n",
       "      <th></th>\n",
       "      <th>userid</th>\n",
       "      <th>adgroup_id</th>\n",
       "      <th>clk</th>\n",
       "      <th>cate_id</th>\n",
       "      <th>price</th>\n",
       "      <th>age_level</th>\n",
       "      <th>final_gender_code</th>\n",
       "      <th>shopping_level</th>\n",
       "    </tr>\n",
       "  </thead>\n",
       "  <tbody>\n",
       "    <tr>\n",
       "      <th>0</th>\n",
       "      <td>581738</td>\n",
       "      <td>1</td>\n",
       "      <td>0</td>\n",
       "      <td>9025</td>\n",
       "      <td>17.0</td>\n",
       "      <td>2.0</td>\n",
       "      <td>1.0</td>\n",
       "      <td>3.0</td>\n",
       "    </tr>\n",
       "    <tr>\n",
       "      <th>1</th>\n",
       "      <td>449818</td>\n",
       "      <td>3</td>\n",
       "      <td>0</td>\n",
       "      <td>5998</td>\n",
       "      <td>1.0</td>\n",
       "      <td>NaN</td>\n",
       "      <td>NaN</td>\n",
       "      <td>NaN</td>\n",
       "    </tr>\n",
       "    <tr>\n",
       "      <th>2</th>\n",
       "      <td>914836</td>\n",
       "      <td>4</td>\n",
       "      <td>0</td>\n",
       "      <td>7958</td>\n",
       "      <td>85.0</td>\n",
       "      <td>5.0</td>\n",
       "      <td>2.0</td>\n",
       "      <td>3.0</td>\n",
       "    </tr>\n",
       "    <tr>\n",
       "      <th>3</th>\n",
       "      <td>914836</td>\n",
       "      <td>5</td>\n",
       "      <td>0</td>\n",
       "      <td>7958</td>\n",
       "      <td>60.0</td>\n",
       "      <td>5.0</td>\n",
       "      <td>2.0</td>\n",
       "      <td>3.0</td>\n",
       "    </tr>\n",
       "    <tr>\n",
       "      <th>4</th>\n",
       "      <td>399907</td>\n",
       "      <td>8</td>\n",
       "      <td>0</td>\n",
       "      <td>1626</td>\n",
       "      <td>63.0</td>\n",
       "      <td>5.0</td>\n",
       "      <td>2.0</td>\n",
       "      <td>3.0</td>\n",
       "    </tr>\n",
       "  </tbody>\n",
       "</table>\n",
       "</div>"
      ],
      "text/plain": [
       "   userid  adgroup_id  clk  cate_id  price  age_level  final_gender_code  \\\n",
       "0  581738           1    0     9025   17.0        2.0                1.0   \n",
       "1  449818           3    0     5998    1.0        NaN                NaN   \n",
       "2  914836           4    0     7958   85.0        5.0                2.0   \n",
       "3  914836           5    0     7958   60.0        5.0                2.0   \n",
       "4  399907           8    0     1626   63.0        5.0                2.0   \n",
       "\n",
       "   shopping_level  \n",
       "0             3.0  \n",
       "1             NaN  \n",
       "2             3.0  \n",
       "3             3.0  \n",
       "4             3.0  "
      ]
     },
     "execution_count": 1,
     "metadata": {},
     "output_type": "execute_result"
    }
   ],
   "source": [
    "import pandas as pd\n",
    "import numpy as np\n",
    "import warnings\n",
    "warnings.filterwarnings(\"ignore\")\n",
    "\n",
    "ad_feature = pd.read_csv('ad_feature.csv')\n",
    "raw_sample = pd.read_csv('raw_sample.csv')\n",
    "user_profile = pd.read_csv('user_profile.csv')\n",
    "\n",
    "#抽取所需要的列进行分析，从raw_sample数据集中抽取：用户ID、广告ID、是否点击 \n",
    "#从ad_feature数据集中抽取：广告ID、类目ID、广告商品价格 \n",
    "#从user_profile数据集中抽取：用户ID、年龄层、性别、购物层次\n",
    "raw_sample = raw_sample[['user','adgroup_id','clk']]\n",
    "ad_feature = ad_feature[['adgroup_id','cate_id','price']]\n",
    "user_profile = user_profile[['userid','age_level','final_gender_code','shopping_level']]\n",
    "\n",
    "#重命名列名\n",
    "raw_sample.rename(columns={'user': 'userid'}, inplace=True)\n",
    "\n",
    "#整合数据\n",
    "df = pd.merge(raw_sample,ad_feature,left_on='adgroup_id',right_on='adgroup_id',how='left')\n",
    "df = pd.merge(df,user_profile,left_on='userid',right_on='userid',how='left')\n",
    "\n",
    "df.head()"
   ]
  },
  {
   "cell_type": "code",
   "execution_count": 2,
   "metadata": {},
   "outputs": [
    {
     "data": {
      "text/plain": [
       "(26557961, 8)"
      ]
     },
     "execution_count": 2,
     "metadata": {},
     "output_type": "execute_result"
    }
   ],
   "source": [
    "df.shape"
   ]
  },
  {
   "cell_type": "code",
   "execution_count": 3,
   "metadata": {},
   "outputs": [
    {
     "data": {
      "text/plain": [
       "userid                     0\n",
       "adgroup_id                 0\n",
       "clk                        0\n",
       "cate_id                    0\n",
       "price                      0\n",
       "age_level            1528526\n",
       "final_gender_code    1528526\n",
       "shopping_level       1528526\n",
       "dtype: int64"
      ]
     },
     "execution_count": 3,
     "metadata": {},
     "output_type": "execute_result"
    }
   ],
   "source": [
    "#缺失值\n",
    "df.isnull().sum()"
   ]
  },
  {
   "cell_type": "code",
   "execution_count": 17,
   "metadata": {},
   "outputs": [],
   "source": [
    "#缺失值处理\n",
    "df.dropna(axis=0, how='any',inplace=True)"
   ]
  },
  {
   "cell_type": "code",
   "execution_count": 4,
   "metadata": {},
   "outputs": [
    {
     "data": {
      "text/plain": [
       "(26557961, 8)"
      ]
     },
     "execution_count": 4,
     "metadata": {},
     "output_type": "execute_result"
    }
   ],
   "source": [
    "df.shape"
   ]
  },
  {
   "cell_type": "code",
   "execution_count": 19,
   "metadata": {},
   "outputs": [
    {
     "data": {
      "image/png": "[encoded data removed]",
      "text/plain": [
       "<Figure size 432x288 with 1 Axes>"
      ]
     },
     "metadata": {},
     "output_type": "display_data"
    }
   ],
   "source": [
    "#离群值处理\n",
    "#查看广告商品价格区间\n",
    "import matplotlib.pyplot as plt \n",
    "import seaborn as sns\n",
    "color = sns.color_palette()\n",
    "sns.set_style('darkgrid')\n",
    "import warnings\n",
    "warnings.filterwarnings(\"ignore\")\n",
    "\n",
    "df_price = df['price']\n",
    "sns.distplot(df_price);"
   ]
  },
  {
   "cell_type": "code",
   "execution_count": 5,
   "metadata": {},
   "outputs": [
    {
     "data": {
      "text/plain": [
       "99999999.0"
      ]
     },
     "execution_count": 5,
     "metadata": {},
     "output_type": "execute_result"
    }
   ],
   "source": [
    "df['price'].max()"
   ]
  },
  {
   "cell_type": "code",
   "execution_count": 21,
   "metadata": {},
   "outputs": [
    {
     "data": {
      "image/png": "[encoded data removed]",
      "text/plain": [
       "<Figure size 432x288 with 1 Axes>"
      ]
     },
     "metadata": {},
     "output_type": "display_data"
    }
   ],
   "source": [
    "#Price column outlier\n",
    "from scipy.stats import norm#for some statistics\n",
    "\n",
    "df_price_limit = df[df['price']<1000]['price']\n",
    "sns.distplot(df_price_limit, fit=norm);"
   ]
  },
  {
   "cell_type": "markdown",
   "metadata": {},
   "source": [
    "结合两图发现,商品价格最大为99999999.0元，且商品价格呈偏正态分布，多数商品价格区100元左右，选取贴合正常标价的1000以内的广告商品价格进行分析。"
   ]
  },
  {
   "cell_type": "code",
   "execution_count": 6,
   "metadata": {},
   "outputs": [],
   "source": [
    "#选取商品价格在1000元以内的行\n",
    "df.drop(df[df.price > 1000].index, inplace=True)"
   ]
  },
  {
   "cell_type": "code",
   "execution_count": 7,
   "metadata": {},
   "outputs": [],
   "source": [
    "#对商品价格进行区间划分\n",
    "df['price_level'] = pd.cut(df['price'],bins=[0,100,200,300,400,500,600,700,800,900,1000]\n",
    "       ,labels=['0-100','100-200','200-300','300-400','400-500','500-600'\n",
    "                ,'600-700','700-800','800-900','900-1000'])"
   ]
  },
  {
   "cell_type": "markdown",
   "metadata": {},
   "source": [
    "### 1.1 从商品价格维度分析对点击率的影响"
   ]
  },
  {
   "cell_type": "code",
   "execution_count": 24,
   "metadata": {},
   "outputs": [],
   "source": [
    "import pyecharts.options as opts\n",
    "from pyecharts.charts import Line\n",
    "\n",
    "#不同价格层次的点击率\n",
    "data_clk = (df.groupby('price_level')['clk'].mean()*100).round(2)\n",
    "\n",
    "x1 = data_clk.index.tolist()\n",
    "y1 = data_clk.values\n",
    "c = (\n",
    "    Line(init_opts=opts.InitOpts(width=\"1600px\", height=\"800px\"))\n",
    "    .add_xaxis(x1)\n",
    "    .add_yaxis(\"点击率\", y1,\n",
    "               markline_opts=opts.MarkLineOpts(data=[opts.MarkLineItem(type_=\"average\")]))\n",
    "    .set_global_opts(title_opts=opts.TitleOpts(title=\"商品价格对点击率的影响\"),\n",
    "                    yaxis_opts=opts.AxisOpts(\n",
    "                        min_=4.5,\n",
    "                        max_=6,\n",
    "                        interval=0.5,\n",
    "                    ))\n",
    ").render('表1 商品价格对点击率的影响.html')#保存到html文件中"
   ]
  },
  {
   "cell_type": "markdown",
   "metadata": {},
   "source": [
    "从表1中发现，0-1000元价格区间商品的点击率在4.9%左右，其中0-100元以内商品的广告点击率最高，为5.5%；假设0-100元价格区间内的广告商品点击对象主要是浅层用户，进行检验。"
   ]
  },
  {
   "cell_type": "code",
   "execution_count": 25,
   "metadata": {},
   "outputs": [],
   "source": [
    "from pyecharts.charts import Pie\n",
    "\n",
    "#不同购物层次的用户在0-100元区间点击广告的数量\n",
    "data_shopping = df[df['price_level'] == '0-100']['shopping_level'].value_counts()\n",
    "data_shopping.index = ['深层','中层','浅层']\n",
    "\n",
    "c = (\n",
    "    Pie(init_opts=opts.InitOpts(width=\"1600px\", height=\"800px\"))\n",
    "    .add(\"\", [list(z) for z in zip(data_shopping.index,data_shopping.values.tolist())])\n",
    "    .set_global_opts(title_opts=opts.TitleOpts(title=\"0-100元内不同层次用户点击广告商品的数量分布\"))\n",
    "    .set_series_opts(label_opts=opts.LabelOpts(formatter=\"{b}: {c}\"))\n",
    ").render('表2 0-100元内不同层次用户点击广告商品的数量分布.html')"
   ]
  },
  {
   "cell_type": "markdown",
   "metadata": {},
   "source": [
    "从表2中发现，深层用户比例更高，浅层比例用户少，推翻原假设。"
   ]
  },
  {
   "cell_type": "markdown",
   "metadata": {},
   "source": [
    "### 1.2 从商品类别维度分析对点击率的影响"
   ]
  },
  {
   "cell_type": "markdown",
   "metadata": {},
   "source": [
    "由于商品类别数量多，本次选取数量最多的前10个类别进行分析"
   ]
  },
  {
   "cell_type": "code",
   "execution_count": 26,
   "metadata": {},
   "outputs": [],
   "source": [
    "from pyecharts.charts import Bar\n",
    "\n",
    "#不同类目商品的数量\n",
    "cate_show = df['cate_id'].value_counts()\n",
    "\n",
    "#不同类目商品的点击量\n",
    "cate_clk = df.groupby('cate_id')['clk'].sum()\n",
    "\n",
    "#选取数量最多的前10个类别\n",
    "d = pd.DataFrame({'cate_show':cate_show,'cate_clk':cate_clk})\n",
    "d = d.sort_values(by='cate_show',ascending=False)[:10]\n",
    "\n",
    "#计算点击率\n",
    "d['clk_rate'] = (d['cate_clk'] / d['cate_show']*100).round(2)\n",
    "y2 = d['clk_rate'].values.tolist()\n",
    "\n",
    "#图表横坐标\n",
    "x2 = d.index.tolist()\n",
    "x3 = [ str(i) for i in x2 ]\n",
    "\n",
    "line = (\n",
    "    Line()\n",
    "    .add_xaxis(xaxis_data=x3)\n",
    "    .add_yaxis(\n",
    "        series_name=\"点击率\",\n",
    "        yaxis_index=1,\n",
    "        y_axis=y2,\n",
    "        label_opts=opts.LabelOpts(is_show=False),\n",
    "    )\n",
    ")\n",
    "\n",
    "bar = (\n",
    "    Bar(init_opts=opts.InitOpts(width=\"1600px\", height=\"800px\"))\n",
    "    .add_xaxis(xaxis_data=x3)\n",
    "    .add_yaxis(\"展示数\",d['cate_show'].tolist(),\n",
    "        label_opts=opts.LabelOpts(is_show=False),\n",
    "    )\n",
    "    .add_yaxis(\"点击数\",d['cate_clk'].tolist(),\n",
    "        label_opts=opts.LabelOpts(is_show=False),\n",
    "    )\n",
    "    .extend_axis(\n",
    "        yaxis=opts.AxisOpts(\n",
    "            name=\"点击率\",\n",
    "            type_=\"value\",\n",
    "            min_=0,\n",
    "            max_=7,\n",
    "            interval=1,\n",
    "            #axislabel_opts=opts.LabelOpts(formatter=\"{value} °C\"),\n",
    "        )\n",
    "    )\n",
    "    .set_global_opts(\n",
    "        tooltip_opts=opts.TooltipOpts(\n",
    "            is_show=True, trigger=\"axis\", axis_pointer_type=\"cross\"\n",
    "        ),\n",
    "        xaxis_opts=opts.AxisOpts(\n",
    "            type_=\"category\",\n",
    "            axispointer_opts=opts.AxisPointerOpts(is_show=True, type_=\"shadow\"),\n",
    "        ),\n",
    "        yaxis_opts=opts.AxisOpts(\n",
    "            name=\"数量\",\n",
    "            type_=\"value\",\n",
    "            min_=0,\n",
    "            max_=3000000,\n",
    "            interval=500000,\n",
    "            #axislabel_opts=opts.LabelOpts(formatter=\"{value} ml\"),\n",
    "            axistick_opts=opts.AxisTickOpts(is_show=True),\n",
    "            splitline_opts=opts.SplitLineOpts(is_show=True),\n",
    "        ),\n",
    "    )\n",
    ").overlap(line).render(\"表3 不同类别广告的展示数、点击数与点击率.html\")"
   ]
  },
  {
   "cell_type": "markdown",
   "metadata": {},
   "source": [
    "由表3看出商品类别6261的展示数、点击数、点击率均为最高，而4520类别的商品虽然展示数较高，但点击率确是最低的。  \n",
    "分析4520广告效果差的原因：  \n",
    "假设是由于商品价格引起的"
   ]
  },
  {
   "cell_type": "code",
   "execution_count": 27,
   "metadata": {},
   "outputs": [
    {
     "name": "stdout",
     "output_type": "stream",
     "text": [
      "没被点击的4520广告商品的平均价格125.92\n",
      "点击的4520广告商品的平均价格133.8\n"
     ]
    }
   ],
   "source": [
    "price_clk = round(df[(df.cate_id == 4520) & (df.clk == 1)]['price'].mean(),2)\n",
    "price_noclk = round(df[(df.cate_id == 4520) & (df.clk == 0)]['price'].mean(),2)\n",
    "print('没被点击的4520广告商品的平均价格{}'.format(price_clk))\n",
    "print('点击的4520广告商品的平均价格{}'.format(price_noclk))"
   ]
  },
  {
   "cell_type": "markdown",
   "metadata": {},
   "source": [
    "两者的平均价格都在100-200区间内，相差不大，说明价格不是影响4520点击率的因素，原假设不成立。  \n",
    "假设是由于性别引起的"
   ]
  },
  {
   "cell_type": "code",
   "execution_count": 28,
   "metadata": {},
   "outputs": [
    {
     "name": "stdout",
     "output_type": "stream",
     "text": [
      "类别4520的男性展示数为169357\n",
      "类别4520的女性展示数为858542\n",
      "男性点击率为0.046\n",
      "女性点击率为0.047\n"
     ]
    }
   ],
   "source": [
    "male = df[(df.cate_id == 4520) & (df.final_gender_code == 1.0)].shape[0]\n",
    "female = df[(df.cate_id == 4520) & (df.final_gender_code == 2.0)].shape[0]\n",
    "print('类别4520的男性展示数为{}'.format(male))\n",
    "print('类别4520的女性展示数为{}'.format(female))\n",
    "male_clk = round(df[(df.cate_id == 4520) & (df.final_gender_code == 1.0)]['clk'].mean(),3)\n",
    "female_clk = round(df[(df.cate_id == 4520) & (df.final_gender_code == 2.0)]['clk'].mean(),3)\n",
    "print('男性点击率为{}'.format(male_clk))\n",
    "print('女性点击率为{}'.format(female_clk))"
   ]
  },
  {
   "cell_type": "markdown",
   "metadata": {},
   "source": [
    "类别4520的广告主要推荐给了女性用户，男性女性的点击率相当。对女性用户展示量更高但点击数却不高是造成类别4520点击率低的原因。"
   ]
  },
  {
   "cell_type": "markdown",
   "metadata": {},
   "source": [
    "### 2.1结合聚类模型分析不同用户群体与点击率的联系"
   ]
  },
  {
   "cell_type": "markdown",
   "metadata": {},
   "source": [
    "### Feature Engineering"
   ]
  },
  {
   "cell_type": "code",
   "execution_count": 29,
   "metadata": {},
   "outputs": [
    {
     "name": "stdout",
     "output_type": "stream",
     "text": [
      "分类变量:\n",
      " ['clkCat', 'age_levelCat', 'final_gender_codeCat', 'shopping_levelCat']\n",
      "\n",
      "数值变量:\n",
      " ['price']\n"
     ]
    }
   ],
   "source": [
    "#删去相同userid的行\n",
    "df = df.drop_duplicates(subset=['userid'], keep='first')\n",
    "df1 = df.copy()\n",
    "\n",
    "#为clk创建分类变量\n",
    "df1['clkCat'] = ''\n",
    "df1['clkCat'].loc[(df1['clk'] == 0)] = 'no'\n",
    "df1['clkCat'].loc[(df1['clk'] == 1)] = 'yes'\n",
    "\n",
    "#为age_level创建分类变量\n",
    "df1['age_levelCat'] = ''\n",
    "df1['age_levelCat'].loc[(df1['age_level'] == 0)] = '0'\n",
    "df1['age_levelCat'].loc[(df1['age_level'] == 1)] = '1'\n",
    "df1['age_levelCat'].loc[(df1['age_level'] == 2)] = '2'\n",
    "df1['age_levelCat'].loc[(df1['age_level'] == 3)] = '3'\n",
    "df1['age_levelCat'].loc[(df1['age_level'] == 4)] = '4'\n",
    "df1['age_levelCat'].loc[(df1['age_level'] == 5)] = '5'\n",
    "df1['age_levelCat'].loc[(df1['age_level'] == 6)] = '6'\n",
    "\n",
    "#为final_gender_code创建分类变量\n",
    "df1['final_gender_codeCat'] = ''\n",
    "df1['final_gender_codeCat'].loc[(df1['final_gender_code'] == 2)] = 'female'\n",
    "df1['final_gender_codeCat'].loc[(df1['final_gender_code'] == 1)] = 'male'\n",
    "\n",
    "#为shopping_level创建分类变量\n",
    "df1['shopping_levelCat'] = ''\n",
    "df1['shopping_levelCat'].loc[(df1['shopping_level'] == 1)] = '1'\n",
    "df1['shopping_levelCat'].loc[(df1['shopping_level'] == 2)] = '2'\n",
    "df1['shopping_levelCat'].loc[(df1['shopping_level'] == 3)] = '3'\n",
    "\n",
    "#去除无用的列\n",
    "df1.drop(['userid','adgroup_id','clk','cate_id','age_level','final_gender_code','shopping_level','price_level'],axis=1,inplace=True)\n",
    "\n",
    "#对变量拆分为数值变量和分类变量\n",
    "categorical_data = df1.select_dtypes(include=['object'])\n",
    "numeric_data = df1.select_dtypes(exclude=['object'])\n",
    "\n",
    "#记录变量名称\n",
    "categorical_columns = list(categorical_data.columns)\n",
    "numeric_columns = list(numeric_data.columns)\n",
    "    \n",
    "print('分类变量:\\n',categorical_columns)\n",
    "print('\\n数值变量:\\n',numeric_columns)"
   ]
  },
  {
   "cell_type": "markdown",
   "metadata": {},
   "source": [
    "### Pipeline Construction"
   ]
  },
  {
   "cell_type": "code",
   "execution_count": 30,
   "metadata": {},
   "outputs": [],
   "source": [
    "from sklearn.pipeline import Pipeline\n",
    "from sklearn.preprocessing import MinMaxScaler\n",
    "from category_encoders import OneHotEncoder\n",
    "from sklearn.compose import ColumnTransformer\n",
    "\n",
    "def definePipeline(categorical_columns, numeric_columns):\n",
    "    \n",
    "    numeric_transformer = Pipeline(steps=[('scaler', MinMaxScaler())])\n",
    "    \n",
    "    categorical_transformer = Pipeline(steps=[('onehot', OneHotEncoder())])\n",
    "    \n",
    "    data_transformations = ColumnTransformer(transformers=[('num', numeric_transformer, numeric_columns),\n",
    "                                                             ('cat', categorical_transformer, categorical_columns)])\n",
    "    \n",
    "    datapipeline = Pipeline(steps=[('data_transformations', data_transformations)])\n",
    "        \n",
    "    return datapipeline\n",
    "    \n",
    "datapipeline = definePipeline(categorical_columns, numeric_columns)   \n",
    "df1 = df1.iloc[:400000,:]\n",
    "transformed = datapipeline.fit(df1)\n",
    "data_sacle = transformed.transform(df1)"
   ]
  },
  {
   "cell_type": "markdown",
   "metadata": {},
   "source": [
    "### K-Means聚类模型"
   ]
  },
  {
   "cell_type": "code",
   "execution_count": 31,
   "metadata": {},
   "outputs": [
    {
     "name": "stdout",
     "output_type": "stream",
     "text": [
      "K-Means: for n_clusters = 2 , the average silhouette_score is 0.3072594219148097\n",
      "K-Means: for n_clusters = 3 , the average silhouette_score is 0.2777361914079502\n",
      "K-Means: for n_clusters = 4 , the average silhouette_score is 0.3437892042917374\n",
      "K-Means: for n_clusters = 5 , the average silhouette_score is 0.3711283576497147\n"
     ]
    }
   ],
   "source": [
    "from sklearn.cluster import KMeans\n",
    "from sklearn.metrics import silhouette_score\n",
    "\n",
    "\n",
    "# Defining a function to find the optimal number of K-Means' n_clusters parameter:\n",
    "def findOptimalNClustersKMeans(data_sacle):\n",
    "    \n",
    "    # Number of clusters to search for and silhouette_scores list\n",
    "    range_n_clusters = [2,3,4,5]\n",
    "    silhouette_scores = []\n",
    "    silhouette_int = -1 #Initialized value\n",
    "\n",
    "    # Testing n_clusters options\n",
    "    for n_clusters in range_n_clusters:\n",
    "        kmeans = KMeans(n_clusters=n_clusters, random_state=7)\n",
    "        cluster_labels = kmeans.fit_predict(data_sacle)\n",
    "        \n",
    "        # Evaluating clusters created by KMeans\n",
    "        silhouette_avg = silhouette_score(data_sacle, cluster_labels)\n",
    "        print(\"K-Means: for n_clusters =\", n_clusters, \", the average silhouette_score is\", silhouette_avg)\n",
    "        \n",
    "        # Appending iteration's avg silhouette score to scores list\n",
    "        silhouette_scores.append(silhouette_avg)\n",
    "        \n",
    "        #If the average number of contours is higher\n",
    "        if silhouette_avg > silhouette_int:\n",
    "            silhouette_int = silhouette_avg\n",
    "            cluster_labels_k = cluster_labels#Save cluster labels\n",
    "        \n",
    "    return range_n_clusters, silhouette_scores,cluster_labels_k\n",
    "\n",
    "range_n_clusters, silhouette_scores,cluster_labels_k = findOptimalNClustersKMeans(data_sacle)"
   ]
  },
  {
   "cell_type": "code",
   "execution_count": 36,
   "metadata": {},
   "outputs": [
    {
     "data": {
      "text/plain": [
       "'表4 K值图.html'"
      ]
     },
     "execution_count": 36,
     "metadata": {},
     "output_type": "execute_result"
    }
   ],
   "source": [
    "import plotly.graph_objs as go\n",
    "import plotly\n",
    "\n",
    "elbow_kmeans = go.Scatter(x=range_n_clusters,\n",
    "                          y=silhouette_scores,\n",
    "                          mode='lines',\n",
    "                          name='kmeans elbow line',\n",
    "                          marker_color='orange')\n",
    "\n",
    "layout_elbow_kmeans = go.Layout(title='Number of clusters x Average Silhouette Score, K-Means Algorithm',\n",
    "                          xaxis=dict(title='n_clusters'), yaxis=dict(title='Average Silhouette Score'))\n",
    "\n",
    "elbow_kmeans = go.Figure(data=elbow_kmeans, layout=layout_elbow_kmeans)\n",
    "plotly.offline.plot(elbow_kmeans, filename='表4 K值图.html')"
   ]
  },
  {
   "cell_type": "code",
   "execution_count": 46,
   "metadata": {},
   "outputs": [
    {
     "name": "stdout",
     "output_type": "stream",
     "text": [
      "************Detailed features for all clusters:*************\n",
      "                           0          3          1          2          4\n",
      "counts                125616      96466      68233      57066      52619\n",
      "percentage              0.31       0.24       0.17       0.14       0.13\n",
      "price                217.127    194.041    199.952    204.271    199.409\n",
      "clk                0.0538944  0.0569112  0.0554863  0.0556023  0.0594082\n",
      "adgroup_id            118317     241282     104401     104401     118317\n",
      "cate_id                 4385       6261       6261       6261       4385\n",
      "age_level                  4          5          3          4          4\n",
      "final_gender_code          1          2          2          2          1\n",
      "shopping_level             3          3          3          3          2\n"
     ]
    }
   ],
   "source": [
    "#Step1 Combine raw data with cluster labels\n",
    "df = df.iloc[:400000,:]\n",
    "df['clusters'] = cluster_labels_k\n",
    "\n",
    "#Step2 Calculate the sample size and sample proportion under each cluster category\n",
    "#Calculate the sample size for each cluster category\n",
    "cluster_set = pd.DataFrame(df['clusters'].value_counts())\n",
    "#Calculate the proportion of sample size for each cluster category\n",
    "cluster_set['percentage'] = round((cluster_set['clusters']/(cluster_set['clusters'].sum())),2)\n",
    "\n",
    "#Step3 Calculate the most significant feature value within each cluster category\n",
    "#Store all feature information after the final merge\n",
    "cluster_features = [] \n",
    "\n",
    "cluster_set['price'] = ''\n",
    "cluster_set['clk'] = ''\n",
    "cluster_set['adgroup_id'] = ''\n",
    "cluster_set['cate_id'] = ''\n",
    "cluster_set['age_level'] = ''\n",
    "cluster_set['final_gender_code'] = ''\n",
    "cluster_set['shopping_level'] = ''\n",
    "\n",
    "for line in range(5):\n",
    "   \n",
    "    #Numerical data characteristics\n",
    "    cluster_set['price'][line] = df[df['clusters'] == line]['price'].mean()\n",
    "    cluster_set['clk'][line] = df[df['clusters'] == line]['clk'].mean()\n",
    "    \n",
    "    #Frequent values of character string data\n",
    "    cluster_set['adgroup_id'][line] = df[df['clusters'] == line]['adgroup_id'].value_counts().index[0]\n",
    "    cluster_set['cate_id'][line] = df[df['clusters'] == line]['cate_id'].value_counts().index[0]\n",
    "    cluster_set['age_level'][line] = df[df['clusters'] == line]['age_level'].value_counts().index[0]\n",
    "    cluster_set['final_gender_code'][line] = df[df['clusters'] == line]['final_gender_code'].value_counts().index[0]\n",
    "    cluster_set['shopping_level'][line] = df[df['clusters'] == line]['shopping_level'].value_counts().index[0]\n",
    "\n",
    "cluster_set.rename(columns={'clusters':'counts'},inplace=True)#rename column    \n",
    "print('{:*^60}'.format('Detailed features for all clusters:'))\n",
    "print(cluster_set.T)"
   ]
  },
  {
   "cell_type": "code",
   "execution_count": 64,
   "metadata": {},
   "outputs": [],
   "source": [
    "#五类群体的数量分布\n",
    "d1 = cluster_set['counts'].tolist()\n",
    "d2 = ['群体1','群体2','群体3','群体4','群体5']\n",
    "\n",
    "\n",
    "D = (\n",
    "    Pie(init_opts=opts.InitOpts(width=\"1600px\", height=\"800px\"))\n",
    "    .add(\"\", [list(z) for z in zip(d2,d1)])\n",
    "    .set_global_opts(title_opts=opts.TitleOpts(title=\"五类群体的数量分布\"))\n",
    "    .set_series_opts(label_opts=opts.LabelOpts(formatter=\"{b}: {c}\"))\n",
    ").render('表5 五类群体的数量分布.html')"
   ]
  },
  {
   "cell_type": "code",
   "execution_count": 65,
   "metadata": {},
   "outputs": [],
   "source": [
    "import numpy as np\n",
    "import pyecharts.options as opts\n",
    "from pyecharts.charts import Radar\n",
    "\n",
    "cluster_Radar = cluster_set[['price','clk','age_level','shopping_level']]\n",
    "\n",
    "#Convert data type\n",
    "cluster_Radar=pd.DataFrame(cluster_Radar,dtype=np.float)\n",
    "\n",
    "D = (\n",
    "    Radar(init_opts=opts.InitOpts(width=\"1600px\", height=\"800px\"))\n",
    "    .add_schema(\n",
    "        schema=[\n",
    "            opts.RadarIndicatorItem(name=\"平均价格\", max_=220,min_=190),\n",
    "            opts.RadarIndicatorItem(name=\"点击率\", max_=0.06,min_=0.050),\n",
    "            opts.RadarIndicatorItem(name=\"年龄层次\", max_=5,min_=1),\n",
    "            opts.RadarIndicatorItem(name=\"购物深度\", max_=5,min_=1),\n",
    "        ],\n",
    "        splitarea_opt=opts.SplitAreaOpts(\n",
    "            is_show=True, areastyle_opts=opts.AreaStyleOpts(opacity=1)\n",
    "        ),\n",
    "        textstyle_opts=opts.TextStyleOpts(color=\"#D7263D\"),\n",
    "    )\n",
    "    .add(\n",
    "        series_name=\"群体1\",\n",
    "        data=np.array(cluster_Radar.loc[[0]]).tolist(),\n",
    "        linestyle_opts=opts.LineStyleOpts(color=\"#00ead3\"),\n",
    "    )\n",
    "    .add(\n",
    "        series_name=\"群体2\",\n",
    "        data=np.array(cluster_Radar.loc[[1]]).tolist(),\n",
    "        linestyle_opts=opts.LineStyleOpts(color=\"#fb9300\"),\n",
    "    )\n",
    "     .add(\n",
    "        series_name=\"群体3\",\n",
    "        data=np.array(cluster_Radar.loc[[2]]).tolist(),\n",
    "        linestyle_opts=opts.LineStyleOpts(color=\"#f54748\"),\n",
    "    )\n",
    "     .add(\n",
    "        series_name=\"群体4\",\n",
    "        data=np.array(cluster_Radar.loc[[3]]).tolist(),\n",
    "        linestyle_opts=opts.LineStyleOpts(color=\"#343f56\"),\n",
    "    )\n",
    "    .add(\n",
    "        series_name=\"群体5\",\n",
    "        data=np.array(cluster_Radar.loc[[4]]).tolist(),\n",
    "        linestyle_opts=opts.LineStyleOpts(color=\"#185adb\"),\n",
    "    )\n",
    "    .set_series_opts(label_opts=opts.LabelOpts(is_show=False))\n",
    "    .set_global_opts(\n",
    "        title_opts=opts.TitleOpts(title=\"五类群体的特征分布\"), legend_opts=opts.LegendOpts()\n",
    "    )\n",
    ").render('表6 五类群体的特征分布.html')"
   ]
  },
  {
   "cell_type": "markdown",
   "metadata": {},
   "source": [
    "由表5、6可知：  \n",
    "- 群体5的点击率最高，对广告的接受程度高，目标是男性群体，年龄层次4，中度用户，对较低价格商品感兴趣。  \n",
    "- 群体1的点击率最低，但是覆盖人群大，深度购买用户，为男性居多，年龄层次4，对较高价格商品感兴趣。  \n",
    "- 所有群体的用户在购物层次上基本没有差异。  "
   ]
  },
  {
   "cell_type": "markdown",
   "metadata": {},
   "source": [
    "## 3）结论：  \n",
    "广告商品价格对点击率的影响：  \n",
    "- 从广告角度看，广告商品在100元以内的广告点击率更高，深度用户占点击广告用户的81%。\n",
    "- 建议对此区间的广告进行优先投放。     \n",
    "\n",
    "广告类别对点击率的影响：\n",
    "- 类别6261广告效果最好，有最高的点击率，展示数和点击人数。\n",
    "- 可以对该类广告加大投入。\n",
    "- 4520广告虽然有较高的展示量，但是点击率最低，广告效果差。 \n",
    "- 由于面向更多的女性消费者，年龄层次3，平均商品价格155，建议对该类广告优化，进行适当的促销、降低商品价格等活动，从而提高点击率。    \n",
    "\n",
    "结合聚类模型分析用户群体和点击率的联系：\n",
    "- 群体5的点击率最高，对广告的接受程度高，目标是男性群体，年龄层次4，中度用户，对较低价格商品感兴趣。\n",
    "- 群体1的点击率最低，但是覆盖人群大，深度购买用户，为男性居多，年龄层次4，对较高价格商品感兴趣。"
   ]
  },
  {
   "cell_type": "code",
   "execution_count": null,
   "metadata": {},
   "outputs": [],
   "source": []
  }
 ],
 "metadata": {
  "kernelspec": {
   "display_name": "Python 3",
   "language": "python",
   "name": "python3"
  },
  "language_info": {
   "codemirror_mode": {
    "name": "ipython",
    "version": 3
   },
   "file_extension": ".py",
   "mimetype": "text/x-python",
   "name": "python",
   "nbconvert_exporter": "python",
   "pygments_lexer": "ipython3",
   "version": "3.8.5"
  }
 },
 "nbformat": 4,
 "nbformat_minor": 4
}
